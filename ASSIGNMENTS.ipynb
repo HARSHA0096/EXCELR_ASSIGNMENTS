{
 "cells": [
  {
   "cell_type": "markdown",
   "id": "d414c650-9811-41a9-95bd-c71a696b7552",
   "metadata": {},
   "source": [
    "**DAY 1**"
   ]
  },
  {
   "cell_type": "code",
   "execution_count": 1,
   "id": "f814cc67-7838-4776-9e7f-57d718459090",
   "metadata": {},
   "outputs": [
    {
     "name": "stdout",
     "output_type": "stream",
     "text": [
      "Integer variable: 10 Type: <class 'int'>\n",
      "Float variable: 3.14 Type: <class 'float'>\n",
      "String variable: Hello, world! Type: <class 'str'>\n",
      "Boolean variable: True Type: <class 'bool'>\n"
     ]
    }
   ],
   "source": [
    "\n",
    "integer_var = 10\n",
    "float_var = 3.14\n",
    "string_var = \"Hello, world!\"\n",
    "boolean_var = True\n",
    "\n",
    "\n",
    "print(\"Integer variable:\", integer_var, \"Type:\", type(integer_var))\n",
    "print(\"Float variable:\", float_var, \"Type:\", type(float_var))\n",
    "print(\"String variable:\", string_var, \"Type:\", type(string_var))\n",
    "print(\"Boolean variable:\", boolean_var, \"Type:\", type(boolean_var))\n"
   ]
  },
  {
   "cell_type": "markdown",
   "id": "56a7aa3c-5706-4364-a53a-dfd992f0e17e",
   "metadata": {},
   "source": [
    "**DAY 2**"
   ]
  },
  {
   "cell_type": "code",
   "execution_count": 2,
   "id": "71e74b9e-35a0-48dc-aa05-1d86d982f968",
   "metadata": {},
   "outputs": [
    {
     "name": "stdout",
     "output_type": "stream",
     "text": [
      "Element at index 0: 1\n",
      "Element at index 2: 3\n",
      "Element at index 4: 5\n",
      "Element at index 1: banana\n",
      "Element at index 3: date\n"
     ]
    }
   ],
   "source": [
    "\n",
    "my_list = [1, 2, 3, 4, 5]\n",
    "\n",
    "\n",
    "print(\"Element at index 0:\", my_list[0])\n",
    "print(\"Element at index 2:\", my_list[2])\n",
    "print(\"Element at index 4:\", my_list[4])\n",
    "\n",
    "\n",
    "string_list = [\"apple\", \"banana\", \"cherry\", \"date\", \"elderberry\"]\n",
    "print(\"Element at index 1:\", string_list[1])\n",
    "print(\"Element at index 3:\", string_list[3])\n"
   ]
  },
  {
   "cell_type": "markdown",
   "id": "78b4c5bc-54de-467f-a347-e0969780c6e3",
   "metadata": {},
   "source": [
    "**DAY 3**"
   ]
  },
  {
   "cell_type": "code",
   "execution_count": 4,
   "id": "e136a9f7-31d9-4ec9-8388-9bc62722ad9a",
   "metadata": {},
   "outputs": [
    {
     "name": "stdin",
     "output_type": "stream",
     "text": [
      "Enter marks for subject 1:  2\n",
      "Enter marks for subject 2:  2\n",
      "Enter marks for subject 3:  2\n"
     ]
    },
    {
     "name": "stdout",
     "output_type": "stream",
     "text": [
      "Grade: Fail\n"
     ]
    }
   ],
   "source": [
    "\n",
    "def calculate_grade(marks1, marks2, marks3):\n",
    "    average = (marks1 + marks2 + marks3) / 3\n",
    "\n",
    "    if average >= 90:\n",
    "        grade = \"A\"\n",
    "    elif 80 <= average < 90:\n",
    "        grade = \"B\"\n",
    "    elif 70 <= average < 80:\n",
    "        grade = \"C\"\n",
    "    else:\n",
    "        grade = \"Fail\"\n",
    "\n",
    "    return grade\n",
    "\n",
    "marks1 = float(input(\"Enter marks for subject 1: \"))\n",
    "marks2 = float(input(\"Enter marks for subject 2: \"))\n",
    "marks3 = float(input(\"Enter marks for subject 3: \"))\n",
    "\n",
    "grade = calculate_grade(marks1, marks2, marks3)\n",
    "print(\"Grade:\", grade)\n"
   ]
  },
  {
   "cell_type": "markdown",
   "id": "0e7a3e8f-50e9-4260-a534-50f07e269780",
   "metadata": {},
   "source": [
    "**DAY 4**"
   ]
  },
  {
   "cell_type": "code",
   "execution_count": 5,
   "id": "6bb83c82-00f7-4002-9fb1-67b7173717b2",
   "metadata": {},
   "outputs": [
    {
     "name": "stdin",
     "output_type": "stream",
     "text": [
      "Enter a positive integer:  6\n"
     ]
    },
    {
     "name": "stdout",
     "output_type": "stream",
     "text": [
      "The sum of all even numbers between 1 and 6 is: 12\n"
     ]
    }
   ],
   "source": [
    "def sum_of_even_numbers(n):\n",
    "    total = 0\n",
    "    for i in range(2, n + 1, 2):\n",
    "        total += i\n",
    "    return total\n",
    "\n",
    "n = int(input(\"Enter a positive integer: \"))\n",
    "\n",
    "if n > 0:\n",
    "    sum_even = sum_of_even_numbers(n)\n",
    "    print(\"The sum of all even numbers between 1 and\", n, \"is:\", sum_even)\n",
    "else:\n",
    "    print(\"Please enter a positive integer.\")\n"
   ]
  },
  {
   "cell_type": "markdown",
   "id": "b400dcbd-62c3-4ad4-91b6-4a10017b3c06",
   "metadata": {},
   "source": [
    "**DAY 5**"
   ]
  },
  {
   "cell_type": "code",
   "execution_count": 6,
   "id": "946cc0d8-1175-4d9f-8f42-9831370b3b32",
   "metadata": {},
   "outputs": [
    {
     "name": "stdin",
     "output_type": "stream",
     "text": [
      "Enter a positive integer:  5\n"
     ]
    },
    {
     "name": "stdout",
     "output_type": "stream",
     "text": [
      "Numbers from 1 to 5 are:\n",
      "1\n",
      "2\n",
      "3\n",
      "4\n",
      "5\n",
      "The sum of all numbers from 1 to 5 is: 15\n"
     ]
    }
   ],
   "source": [
    "n = int(input(\"Enter a positive integer: \"))\n",
    "\n",
    "print(\"Numbers from 1 to\", n, \"are:\")\n",
    "for i in range(1, n + 1):\n",
    "    print(i)\n",
    "\n",
    "total_sum = 0\n",
    "i = 1\n",
    "while i <= n:\n",
    "    total_sum += i\n",
    "    i += 1\n",
    "\n",
    "print(\"The sum of all numbers from 1 to\", n, \"is:\", total_sum)\n"
   ]
  },
  {
   "cell_type": "code",
   "execution_count": 7,
   "id": "8fddf22c-4f5a-41f0-b9e1-2a840507f9b4",
   "metadata": {},
   "outputs": [
    {
     "name": "stdin",
     "output_type": "stream",
     "text": [
      "Enter a positive integer:  5\n"
     ]
    },
    {
     "name": "stdout",
     "output_type": "stream",
     "text": [
      "The square of 5 is: 25\n"
     ]
    }
   ],
   "source": [
    "def calculate_square(n):\n",
    "    return n * n\n",
    "\n",
    "n = int(input(\"Enter a positive integer: \"))\n",
    "\n",
    "square = calculate_square(n)\n",
    "print(\"The square of\", n, \"is:\", square)\n"
   ]
  },
  {
   "cell_type": "markdown",
   "id": "b3b05e1b-cb6f-4eb1-95d9-6113bc4aea47",
   "metadata": {},
   "source": [
    "**DAY 6**"
   ]
  },
  {
   "cell_type": "code",
   "execution_count": 12,
   "id": "bfeac7ca-9634-4f2f-8211-5d0c55b41334",
   "metadata": {},
   "outputs": [
    {
     "name": "stdout",
     "output_type": "stream",
     "text": [
      "First 2 rows of the DataFrame:\n",
      "    Name  Age Department  Salary\n",
      "0   John   28         HR   45000\n",
      "1  Alice   34         IT   60000\n",
      "\n",
      "DataFrame with Bonus column added:\n",
      "    Name  Age Department  Salary   Bonus\n",
      "0   John   28         HR   45000  4500.0\n",
      "1  Alice   34         IT   60000  6000.0\n",
      "2    Bob   23  Marketing   35000  3500.0\n",
      "3  Diana   29    Finance   50000  5000.0\n",
      "\n",
      "Average Salary of employees: 47500.0\n",
      "\n",
      "Employees who are older than 25:\n",
      "    Name  Age Department  Salary   Bonus\n",
      "0   John   28         HR   45000  4500.0\n",
      "1  Alice   34         IT   60000  6000.0\n",
      "3  Diana   29    Finance   50000  5000.0\n"
     ]
    }
   ],
   "source": [
    "import pandas as pd\n",
    "\n",
    "data = {\n",
    "    \"Name\": [\"John\", \"Alice\", \"Bob\", \"Diana\"],\n",
    "    \"Age\": [28, 34, 23, 29],\n",
    "    \"Department\": [\"HR\", \"IT\", \"Marketing\", \"Finance\"],\n",
    "    \"Salary\": [45000, 60000, 35000, 50000]\n",
    "}\n",
    "\n",
    "\n",
    "df = pd.DataFrame(data)\n",
    "\n",
    "print(\"First 2 rows of the DataFrame:\")\n",
    "print(df.head(2))\n",
    "\n",
    "df[\"Bonus\"] = df[\"Salary\"] * 0.1\n",
    "print(\"\\nDataFrame with Bonus column added:\")\n",
    "print(df)\n",
    "\n",
    "average_salary = df[\"Salary\"].mean()\n",
    "print(\"\\nAverage Salary of employees:\", average_salary)\n",
    "\n",
    "filtered_employees = df[df[\"Age\"] > 25]\n",
    "print(\"\\nEmployees who are older than 25:\")\n",
    "print(filtered_employees)\n"
   ]
  },
  {
   "cell_type": "markdown",
   "id": "c82b2ab2-be9f-48c4-8b83-172b54df8e6c",
   "metadata": {},
   "source": [
    "**DAY 7**"
   ]
  },
  {
   "cell_type": "code",
   "execution_count": 18,
   "id": "4f61d21e-c6fe-4d0a-95df-40a301a69aca",
   "metadata": {},
   "outputs": [
    {
     "name": "stdout",
     "output_type": "stream",
     "text": [
      "First 5 rows of the dataset:\n",
      "         Date Product Region    Sales  Profit  Quantity\n",
      "0  2023-01-02  Tablet   East  1061.81  236.12         7\n",
      "1  2023-01-06  Laptop  North  1926.07  246.34         8\n",
      "2  2023-01-03  Tablet   East  1597.99  253.17         3\n",
      "3  2023-01-20  Tablet  North  1397.99  242.23         1\n",
      "4  2023-01-04  Laptop   West   734.03  140.36         4\n",
      "\n",
      "Basic statistics of the numerical columns:\n",
      "             Sales      Profit   Quantity\n",
      "count    20.000000   20.000000  20.000000\n",
      "mean   1186.553000  211.533000   5.050000\n",
      "std     461.528444   66.916251   2.543826\n",
      "min     530.880000   82.160000   1.000000\n",
      "25%     774.517500  166.515000   2.750000\n",
      "50%    1104.865000  214.670000   5.000000\n",
      "75%    1571.080000  248.047500   7.250000\n",
      "max    1954.860000  364.970000   9.000000\n",
      "\n",
      "Total sales for each region:\n",
      "Region\n",
      "East      5818.93\n",
      "North    10449.68\n",
      "South      936.84\n",
      "West      6525.61\n",
      "Name: Sales, dtype: float64\n",
      "\n",
      "Most sold product (based on quantity):\n",
      "Tablet\n",
      "\n",
      "Average profit margin for each product:\n",
      "Product\n",
      "Keyboard      20.080696\n",
      "Laptop        17.112734\n",
      "Monitor       15.134989\n",
      "Smartphone    23.703647\n",
      "Tablet        19.955758\n",
      "Name: Profit Margin, dtype: float64\n"
     ]
    }
   ],
   "source": [
    "import pandas as pd\n",
    "\n",
    "df = pd.read_csv('Day_7_sales_data (1).csv')\n",
    "\n",
    "print(\"First 5 rows of the dataset:\")\n",
    "print(df.head())\n",
    "\n",
    "print(\"\\nBasic statistics of the numerical columns:\")\n",
    "print(df.describe())\n",
    "\n",
    "total_sales_by_region = df.groupby('Region')['Sales'].sum()\n",
    "print(\"\\nTotal sales for each region:\")\n",
    "print(total_sales_by_region)\n",
    "\n",
    "most_sold_product = df.groupby('Product')['Quantity'].sum().idxmax()\n",
    "print(\"\\nMost sold product (based on quantity):\")\n",
    "print(most_sold_product)\n",
    "\n",
    "df['Profit Margin'] = (df['Profit'] / df['Sales']) * 100\n",
    "average_profit_margin_by_product = df.groupby('Product')['Profit Margin'].mean()\n",
    "print(\"\\nAverage profit margin for each product:\")\n",
    "print(average_profit_margin_by_product)\n"
   ]
  },
  {
   "cell_type": "code",
   "execution_count": null,
   "id": "109b143b-af11-4634-bf21-6124f6083318",
   "metadata": {},
   "outputs": [],
   "source": []
  }
 ],
 "metadata": {
  "kernelspec": {
   "display_name": "Python 3 (ipykernel)",
   "language": "python",
   "name": "python3"
  },
  "language_info": {
   "codemirror_mode": {
    "name": "ipython",
    "version": 3
   },
   "file_extension": ".py",
   "mimetype": "text/x-python",
   "name": "python",
   "nbconvert_exporter": "python",
   "pygments_lexer": "ipython3",
   "version": "3.12.7"
  }
 },
 "nbformat": 4,
 "nbformat_minor": 5
}
